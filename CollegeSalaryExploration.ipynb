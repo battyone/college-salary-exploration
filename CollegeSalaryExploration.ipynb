{
 "cells": [
  {
   "cell_type": "code",
   "execution_count": null,
   "metadata": {},
   "outputs": [],
   "source": [
    "%matplotlib inline\n",
    "import pandas as pd"
   ]
  },
  {
   "cell_type": "code",
   "execution_count": null,
   "metadata": {},
   "outputs": [],
   "source": [
    "df = pd.read_csv('college-salary-data.csv')"
   ]
  },
  {
   "cell_type": "code",
   "execution_count": null,
   "metadata": {
    "scrolled": true
   },
   "outputs": [],
   "source": [
    "# Which school names contain the word 'Technology'?\n",
    "df[df['School Name'].str.contains('Technology')]"
   ]
  },
  {
   "cell_type": "code",
   "execution_count": null,
   "metadata": {},
   "outputs": [],
   "source": [
    "# What percentage of each type of school have mid-career median salaries above $100k?\n",
    "df[df['Mid-Career Median Salary']>=100]['School Type'].value_counts()/df['School Type'].value_counts()"
   ]
  },
  {
   "cell_type": "code",
   "execution_count": null,
   "metadata": {},
   "outputs": [],
   "source": [
    "# If I want my mid-career salary to be above $100k, which schools can I go to?\n",
    "df[df['Mid-Career Median Salary']>=100]"
   ]
  },
  {
   "cell_type": "code",
   "execution_count": null,
   "metadata": {},
   "outputs": [],
   "source": [
    "# If I want to go to a party school, which school do I want to choose?\n",
    "df[df['School Type']== 'Party'].sort_values(by='Starting Median Salary',ascending=False)"
   ]
  },
  {
   "cell_type": "code",
   "execution_count": null,
   "metadata": {},
   "outputs": [],
   "source": [
    "# Plot median salary by college type.\n",
    "df.groupby(df['School Type']).agg({\n",
    "    'Starting Median Salary': 'mean', \n",
    "    'Mid-Career Median Salary': 'mean', \n",
    "}).plot(kind='bar', figsize=(10, 5))"
   ]
  },
  {
   "cell_type": "code",
   "execution_count": null,
   "metadata": {},
   "outputs": [],
   "source": [
    "# Plot 90th percentile mid-career salary by college type.\n",
    "df.groupby(df['School Type']).agg({\n",
    "    'Starting Median Salary': 'mean', \n",
    "    'Mid-Career 90th Percentile Salary': ['mean', 'max'],\n",
    "}).plot(kind='bar', figsize=(10, 5))"
   ]
  },
  {
   "cell_type": "code",
   "execution_count": null,
   "metadata": {},
   "outputs": [],
   "source": [
    "# Which schools have the most salary growth potential?\n",
    "df['Growth Potential']=(df['Mid-Career Median Salary'] - df['Starting Median Salary']) / df['Starting Median Salary'] * 100\n",
    "df[['School Name','Growth Potential']].sort_values(by='Growth Potential', ascending=False)"
   ]
  },
  {
   "cell_type": "code",
   "execution_count": null,
   "metadata": {},
   "outputs": [],
   "source": [
    "%matplotlib inline\n",
    "import pandas as pd\n",
    "\n",
    "df = pd.read_csv('college-salary-data.csv')\n",
    "\n",
    "# Which school names contain the word 'Technology'?\n",
    "df[df['School Name'].str.contains('Technology')]\n",
    "\n",
    "# What percentage of each type of school have mid-career median salaries above $100k?\n",
    "df[df['Mid-Career Median Salary']>=100]['School Type'].value_counts()/df['School Type'].value_counts()\n",
    "\n",
    "# If I want my mid-career salary to be above $100k, which schools can I go to?\n",
    "df[df['Mid-Career Median Salary']>=100]\n",
    "\n",
    "# If I want to go to a party school, which school do I want to choose?\n",
    "df[df['School Type']== 'Party'].sort_values(by='Starting Median Salary',ascending=False)\n",
    "\n",
    "# Plot median salary by college type.\n",
    "df.groupby(df['School Type']).agg({\n",
    "    'Starting Median Salary': 'mean', \n",
    "    'Mid-Career Median Salary': 'mean', \n",
    "}).plot(kind='bar', figsize=(10, 5))\n",
    "\n",
    "# Plot 90th percentile mid-career salary by college type.\n",
    "df.groupby(df['School Type']).agg({\n",
    "    'Starting Median Salary': 'mean', \n",
    "    'Mid-Career 90th Percentile Salary': ['mean', 'max'],\n",
    "}).plot(kind='bar', figsize=(10, 5))\n",
    "\n",
    "# Which schools have the most salary growth potential?\n",
    "df['Growth Potential']=(df['Mid-Career Median Salary'] - df['Starting Median Salary']) / df['Starting Median Salary'] * 100\n",
    "df[['School Name','Growth Potential']].sort_values(by='Growth Potential', ascending=False)"
   ]
  }
 ],
 "metadata": {
  "kernelspec": {
   "display_name": "Python 3",
   "language": "python",
   "name": "python3"
  },
  "language_info": {
   "codemirror_mode": {
    "name": "ipython",
    "version": 3
   },
   "file_extension": ".py",
   "mimetype": "text/x-python",
   "name": "python",
   "nbconvert_exporter": "python",
   "pygments_lexer": "ipython3",
   "version": "3.6.5"
  }
 },
 "nbformat": 4,
 "nbformat_minor": 2
}
